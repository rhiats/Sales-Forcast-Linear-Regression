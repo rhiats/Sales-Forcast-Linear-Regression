{
 "cells": [
  {
   "cell_type": "markdown",
   "metadata": {},
   "source": [
    "# Sales Forecasting for Supermarkets"
   ]
  },
  {
   "cell_type": "markdown",
   "metadata": {},
   "source": [
    "### References:\n",
    "##### Data Source/Data Dictionary: \n",
    "https://www.kaggle.com/datasets/aungpyaeap/supermarket-sales?resource=download\n",
    "#### Forecasting:\n",
    "https://cseweb.ucsd.edu/classes/wi15/cse255-a/reports/fa15/004.pdf\n",
    "\n",
    "https://medium.com/@prashant.nair2050/hands-on-outlier-detection-and-treatment-in-python-using-1-5-iqr-rule-f9ff1961a414\n",
    "\n",
    "https://it.unt.edu/sites/default/files/categoricalregression_jds_june2010.pdf"
   ]
  },
  {
   "cell_type": "markdown",
   "metadata": {},
   "source": [
    "Predict sales for Q1'19 of 3 supermarkets in cities across Myanmar"
   ]
  },
  {
   "cell_type": "code",
   "execution_count": 1,
   "metadata": {},
   "outputs": [],
   "source": [
    "import pandas as pd\n",
    "import numpy as np\n",
    "import matplotlib.pyplot as plt\n",
    "import folium\n",
    "import scipy.stats as stats\n",
    "import seaborn as sns\n",
    "import statsmodels.api as sm\n",
    "from statsmodels.iolib.summary2 import summary_col\n",
    "from linearmodels.iv import IV2SLS\n",
    "import warnings\n",
    "warnings.filterwarnings(\"ignore\")"
   ]
  },
  {
   "cell_type": "code",
   "execution_count": 2,
   "metadata": {},
   "outputs": [
    {
     "data": {
      "text/html": [
       "<div>\n",
       "<style scoped>\n",
       "    .dataframe tbody tr th:only-of-type {\n",
       "        vertical-align: middle;\n",
       "    }\n",
       "\n",
       "    .dataframe tbody tr th {\n",
       "        vertical-align: top;\n",
       "    }\n",
       "\n",
       "    .dataframe thead th {\n",
       "        text-align: right;\n",
       "    }\n",
       "</style>\n",
       "<table border=\"1\" class=\"dataframe\">\n",
       "  <thead>\n",
       "    <tr style=\"text-align: right;\">\n",
       "      <th></th>\n",
       "      <th>Invoice ID</th>\n",
       "      <th>Branch</th>\n",
       "      <th>City</th>\n",
       "      <th>Customer type</th>\n",
       "      <th>Product line</th>\n",
       "      <th>Quantity</th>\n",
       "      <th>Tax 5%</th>\n",
       "      <th>Total</th>\n",
       "      <th>Date</th>\n",
       "    </tr>\n",
       "  </thead>\n",
       "  <tbody>\n",
       "    <tr>\n",
       "      <th>0</th>\n",
       "      <td>750-67-8428</td>\n",
       "      <td>A</td>\n",
       "      <td>Yangon</td>\n",
       "      <td>Member</td>\n",
       "      <td>Health and beauty</td>\n",
       "      <td>7</td>\n",
       "      <td>26.1415</td>\n",
       "      <td>548.9715</td>\n",
       "      <td>1/5/19</td>\n",
       "    </tr>\n",
       "    <tr>\n",
       "      <th>1</th>\n",
       "      <td>226-31-3081</td>\n",
       "      <td>C</td>\n",
       "      <td>Naypyitaw</td>\n",
       "      <td>Normal</td>\n",
       "      <td>Electronic accessories</td>\n",
       "      <td>5</td>\n",
       "      <td>3.8200</td>\n",
       "      <td>80.2200</td>\n",
       "      <td>3/8/19</td>\n",
       "    </tr>\n",
       "    <tr>\n",
       "      <th>2</th>\n",
       "      <td>631-41-3108</td>\n",
       "      <td>A</td>\n",
       "      <td>Yangon</td>\n",
       "      <td>Normal</td>\n",
       "      <td>Home and lifestyle</td>\n",
       "      <td>7</td>\n",
       "      <td>16.2155</td>\n",
       "      <td>340.5255</td>\n",
       "      <td>3/3/19</td>\n",
       "    </tr>\n",
       "    <tr>\n",
       "      <th>3</th>\n",
       "      <td>123-19-1176</td>\n",
       "      <td>A</td>\n",
       "      <td>Yangon</td>\n",
       "      <td>Member</td>\n",
       "      <td>Health and beauty</td>\n",
       "      <td>8</td>\n",
       "      <td>23.2880</td>\n",
       "      <td>489.0480</td>\n",
       "      <td>1/27/19</td>\n",
       "    </tr>\n",
       "    <tr>\n",
       "      <th>4</th>\n",
       "      <td>373-73-7910</td>\n",
       "      <td>A</td>\n",
       "      <td>Yangon</td>\n",
       "      <td>Normal</td>\n",
       "      <td>Sports and travel</td>\n",
       "      <td>7</td>\n",
       "      <td>30.2085</td>\n",
       "      <td>634.3785</td>\n",
       "      <td>2/8/19</td>\n",
       "    </tr>\n",
       "  </tbody>\n",
       "</table>\n",
       "</div>"
      ],
      "text/plain": [
       "    Invoice ID Branch       City Customer type            Product line  \\\n",
       "0  750-67-8428      A     Yangon        Member       Health and beauty   \n",
       "1  226-31-3081      C  Naypyitaw        Normal  Electronic accessories   \n",
       "2  631-41-3108      A     Yangon        Normal      Home and lifestyle   \n",
       "3  123-19-1176      A     Yangon        Member       Health and beauty   \n",
       "4  373-73-7910      A     Yangon        Normal       Sports and travel   \n",
       "\n",
       "   Quantity   Tax 5%     Total     Date  \n",
       "0         7  26.1415  548.9715   1/5/19  \n",
       "1         5   3.8200   80.2200   3/8/19  \n",
       "2         7  16.2155  340.5255   3/3/19  \n",
       "3         8  23.2880  489.0480  1/27/19  \n",
       "4         7  30.2085  634.3785   2/8/19  "
      ]
     },
     "execution_count": 2,
     "metadata": {},
     "output_type": "execute_result"
    }
   ],
   "source": [
    "df=pd.read_csv(\"input/supermarket_sales - Sheet2.csv\")\n",
    "df.head()"
   ]
  },
  {
   "cell_type": "markdown",
   "metadata": {},
   "source": [
    "# Remove Outliers\n",
    "\n",
    "First, remove the tax from the total and then use the 1.5 inter-quartile rule to remove outliers."
   ]
  },
  {
   "cell_type": "code",
   "execution_count": 3,
   "metadata": {},
   "outputs": [],
   "source": [
    "df['Tax 5%']=df['Tax 5%'].apply(np.ceil)\n",
    "df['Total']=df['Total'].apply(np.ceil)\n",
    "df['Total']=df['Total']-df['Tax 5%']"
   ]
  },
  {
   "cell_type": "code",
   "execution_count": 4,
   "metadata": {},
   "outputs": [
    {
     "data": {
      "image/png": "[encoded data removed]",
      "text/plain": [
       "<Figure size 720x576 with 1 Axes>"
      ]
     },
     "metadata": {
      "needs_background": "light"
     },
     "output_type": "display_data"
    }
   ],
   "source": [
    "fig, ax = plt.subplots()\n",
    "fig.set_figheight(8)\n",
    "fig.set_figwidth(10)\n",
    "width=0.35\n",
    "\n",
    "ax.hist(df['Total'],color='navy')\n",
    "\n",
    "plt.savefig('output/total_histogram.png')"
   ]
  },
  {
   "cell_type": "code",
   "execution_count": 5,
   "metadata": {},
   "outputs": [],
   "source": [
    "def outlier_treatment(datacolumn):\n",
    "    sorted(datacolumn)\n",
    "    Q1,Q3 = np.percentile(datacolumn , [25,75])\n",
    "    IQR = Q3-Q1\n",
    "    lower_range = Q1-(1.5*IQR)\n",
    "    upper_range = Q3+(1.5*IQR)\n",
    "    \n",
    "    return lower_range,upper_range\n",
    "\n",
    "lowerbound,upperbound = outlier_treatment(df['Total'])\n",
    "df=df[(df.Total > lowerbound) | (df.Total < upperbound)]"
   ]
  },
  {
   "cell_type": "code",
   "execution_count": 6,
   "metadata": {},
   "outputs": [
    {
     "data": {
      "image/png": "[encoded data removed]",
      "text/plain": [
       "<Figure size 720x576 with 1 Axes>"
      ]
     },
     "metadata": {
      "needs_background": "light"
     },
     "output_type": "display_data"
    }
   ],
   "source": [
    "df['Total_log']=np.log(df['Total'])\n",
    "fig, ax = plt.subplots()\n",
    "fig.set_figheight(8)\n",
    "fig.set_figwidth(10)\n",
    "width=0.35\n",
    "\n",
    "ax.hist(df['Total_log'],color='navy')\n",
    "\n",
    "plt.savefig('output/log_total_histogram.png')"
   ]
  },
  {
   "cell_type": "markdown",
   "metadata": {},
   "source": [
    "# Propensity Branch Sells a Product\n",
    "\n",
    "The 3 branches distribute the same 6 product: Electronics, Fashion, Food, Health, Home and Travel, with each branch driving the sales of a specific product line. Branch A drives sales of Home, while branch B drives the sales of Health products and branch C has the most sales of Food products. The Branch and Product Line may be strong predictors of sales across 3 months. Another consideration, may be the Day of the Week, because some stores may have varied performance on a given day.  "
   ]
  },
  {
   "cell_type": "code",
   "execution_count": 7,
   "metadata": {},
   "outputs": [
    {
     "data": {
      "text/html": [
       "<div>\n",
       "<style scoped>\n",
       "    .dataframe tbody tr th:only-of-type {\n",
       "        vertical-align: middle;\n",
       "    }\n",
       "\n",
       "    .dataframe tbody tr th {\n",
       "        vertical-align: top;\n",
       "    }\n",
       "\n",
       "    .dataframe thead th {\n",
       "        text-align: right;\n",
       "    }\n",
       "</style>\n",
       "<table border=\"1\" class=\"dataframe\">\n",
       "  <thead>\n",
       "    <tr style=\"text-align: right;\">\n",
       "      <th>Branch</th>\n",
       "      <th>Product line</th>\n",
       "      <th>A</th>\n",
       "      <th>B</th>\n",
       "      <th>C</th>\n",
       "    </tr>\n",
       "  </thead>\n",
       "  <tbody>\n",
       "    <tr>\n",
       "      <th>0</th>\n",
       "      <td>Electronic accessories</td>\n",
       "      <td>34.0</td>\n",
       "      <td>31.0</td>\n",
       "      <td>35.0</td>\n",
       "    </tr>\n",
       "    <tr>\n",
       "      <th>1</th>\n",
       "      <td>Fashion accessories</td>\n",
       "      <td>30.0</td>\n",
       "      <td>30.0</td>\n",
       "      <td>40.0</td>\n",
       "    </tr>\n",
       "    <tr>\n",
       "      <th>2</th>\n",
       "      <td>Food and beverages</td>\n",
       "      <td>31.0</td>\n",
       "      <td>27.0</td>\n",
       "      <td>42.0</td>\n",
       "    </tr>\n",
       "    <tr>\n",
       "      <th>3</th>\n",
       "      <td>Health and beauty</td>\n",
       "      <td>26.0</td>\n",
       "      <td>41.0</td>\n",
       "      <td>34.0</td>\n",
       "    </tr>\n",
       "    <tr>\n",
       "      <th>4</th>\n",
       "      <td>Home and lifestyle</td>\n",
       "      <td>42.0</td>\n",
       "      <td>33.0</td>\n",
       "      <td>26.0</td>\n",
       "    </tr>\n",
       "    <tr>\n",
       "      <th>5</th>\n",
       "      <td>Sports and travel</td>\n",
       "      <td>35.0</td>\n",
       "      <td>36.0</td>\n",
       "      <td>29.0</td>\n",
       "    </tr>\n",
       "  </tbody>\n",
       "</table>\n",
       "</div>"
      ],
      "text/plain": [
       "Branch            Product line     A     B     C\n",
       "0       Electronic accessories  34.0  31.0  35.0\n",
       "1          Fashion accessories  30.0  30.0  40.0\n",
       "2           Food and beverages  31.0  27.0  42.0\n",
       "3            Health and beauty  26.0  41.0  34.0\n",
       "4           Home and lifestyle  42.0  33.0  26.0\n",
       "5            Sports and travel  35.0  36.0  29.0"
      ]
     },
     "execution_count": 7,
     "metadata": {},
     "output_type": "execute_result"
    }
   ],
   "source": [
    "df1=df[['Branch','Product line','Total']]\n",
    "df_total_sale_branch_prod_line=df1.groupby(['Branch','Product line']).sum().reset_index()\n",
    "df_prod_line_total=df1.groupby(['Product line']).sum().reset_index()\n",
    "\n",
    "df2=pd.merge(df_total_sale_branch_prod_line,df_prod_line_total,on='Product line').rename({'Total_x':'Branch_Total','Total_y':'Total'},axis=1)\n",
    "df2['Ratio_Sales_per_Prod']=round((df2['Branch_Total']/df2['Total']*100),0)\n",
    "df2=df2[['Branch','Product line','Ratio_Sales_per_Prod']]\n",
    "df2=pd.pivot_table(df2, values='Ratio_Sales_per_Prod', index='Product line', columns='Branch',aggfunc=np.sum).reset_index()\n",
    "df2"
   ]
  },
  {
   "cell_type": "code",
   "execution_count": 8,
   "metadata": {},
   "outputs": [
    {
     "data": {
      "image/png": "[encoded data removed]",
      "text/plain": [
       "<Figure size 720x576 with 1 Axes>"
      ]
     },
     "metadata": {
      "needs_background": "light"
     },
     "output_type": "display_data"
    }
   ],
   "source": [
    "fig, ax = plt.subplots()\n",
    "fig.set_figheight(8)\n",
    "fig.set_figwidth(10)\n",
    "labels=['Electronics','Fashion','Food','Health','Home','Travel']\n",
    "a_propensity_prod=np.array(df2['A'].astype(int).to_list())\n",
    "b_propensity_prod=np.array(df2['B'].astype(int).to_list())\n",
    "c_propensity_prod=np.array(df2['C'].astype(int).to_list())\n",
    "\n",
    "ax.bar(labels, a_propensity_prod, label='A', color='navy')\n",
    "ax.bar(labels, b_propensity_prod, label='B',bottom=a_propensity_prod, color='cornflowerblue')\n",
    "ax.bar(labels, c_propensity_prod, label='C',bottom=a_propensity_prod+b_propensity_prod, color='lightblue')\n",
    "\n",
    "ax.legend(loc='upper center',ncol=len(labels))\n",
    "plt.savefig('output/prod_line_per_branch.png')"
   ]
  },
  {
   "cell_type": "markdown",
   "metadata": {},
   "source": [
    "# Median Sales per Day\n",
    "\n",
    "All the branches are open 7 days a week, with certain stores generating higher sales on specific days. Both stores A and C generate the least sales on Tuesday, while store A generates the most sales on Saturday and store C performs the best on Sunday. Store B generates the most sales at $300 on Thursday and drops by 33%, to the lowest sales, on Friday. The days of the week of a sale may be a good predictor for sales performance for a given branch."
   ]
  },
  {
   "cell_type": "code",
   "execution_count": 9,
   "metadata": {},
   "outputs": [
    {
     "data": {
      "text/html": [
       "<div>\n",
       "<style scoped>\n",
       "    .dataframe tbody tr th:only-of-type {\n",
       "        vertical-align: middle;\n",
       "    }\n",
       "\n",
       "    .dataframe tbody tr th {\n",
       "        vertical-align: top;\n",
       "    }\n",
       "\n",
       "    .dataframe thead th {\n",
       "        text-align: right;\n",
       "    }\n",
       "</style>\n",
       "<table border=\"1\" class=\"dataframe\">\n",
       "  <thead>\n",
       "    <tr style=\"text-align: right;\">\n",
       "      <th>Branch</th>\n",
       "      <th>Day of Week</th>\n",
       "      <th>A</th>\n",
       "      <th>B</th>\n",
       "      <th>C</th>\n",
       "      <th>Day of Week Order</th>\n",
       "    </tr>\n",
       "  </thead>\n",
       "  <tbody>\n",
       "    <tr>\n",
       "      <th>3</th>\n",
       "      <td>Sunday</td>\n",
       "      <td>261.0</td>\n",
       "      <td>236.0</td>\n",
       "      <td>324.5</td>\n",
       "      <td>1</td>\n",
       "    </tr>\n",
       "    <tr>\n",
       "      <th>1</th>\n",
       "      <td>Monday</td>\n",
       "      <td>223.5</td>\n",
       "      <td>231.0</td>\n",
       "      <td>228.0</td>\n",
       "      <td>2</td>\n",
       "    </tr>\n",
       "    <tr>\n",
       "      <th>5</th>\n",
       "      <td>Tuesday</td>\n",
       "      <td>167.0</td>\n",
       "      <td>267.0</td>\n",
       "      <td>201.5</td>\n",
       "      <td>3</td>\n",
       "    </tr>\n",
       "    <tr>\n",
       "      <th>6</th>\n",
       "      <td>Wednesday</td>\n",
       "      <td>233.0</td>\n",
       "      <td>189.5</td>\n",
       "      <td>214.0</td>\n",
       "      <td>4</td>\n",
       "    </tr>\n",
       "    <tr>\n",
       "      <th>4</th>\n",
       "      <td>Thursday</td>\n",
       "      <td>236.0</td>\n",
       "      <td>299.5</td>\n",
       "      <td>205.5</td>\n",
       "      <td>5</td>\n",
       "    </tr>\n",
       "    <tr>\n",
       "      <th>0</th>\n",
       "      <td>Friday</td>\n",
       "      <td>221.0</td>\n",
       "      <td>186.0</td>\n",
       "      <td>276.5</td>\n",
       "      <td>6</td>\n",
       "    </tr>\n",
       "    <tr>\n",
       "      <th>2</th>\n",
       "      <td>Saturday</td>\n",
       "      <td>282.0</td>\n",
       "      <td>274.0</td>\n",
       "      <td>288.0</td>\n",
       "      <td>7</td>\n",
       "    </tr>\n",
       "  </tbody>\n",
       "</table>\n",
       "</div>"
      ],
      "text/plain": [
       "Branch Day of Week      A      B      C  Day of Week Order\n",
       "3           Sunday  261.0  236.0  324.5                  1\n",
       "1           Monday  223.5  231.0  228.0                  2\n",
       "5          Tuesday  167.0  267.0  201.5                  3\n",
       "6        Wednesday  233.0  189.5  214.0                  4\n",
       "4         Thursday  236.0  299.5  205.5                  5\n",
       "0           Friday  221.0  186.0  276.5                  6\n",
       "2         Saturday  282.0  274.0  288.0                  7"
      ]
     },
     "execution_count": 9,
     "metadata": {},
     "output_type": "execute_result"
    }
   ],
   "source": [
    "df3=df[['Branch','Date','Total']]\n",
    "df3['Date']=pd.to_datetime(df3['Date'])\n",
    "df3['Day of Week'] = df3['Date'].dt.day_name()\n",
    "df3=df3[['Branch','Day of Week','Total']]\n",
    "df3=df3.groupby(['Day of Week','Branch']).median()\n",
    "\n",
    "df3=pd.pivot_table(df3, values='Total', index='Day of Week', columns='Branch',aggfunc=np.median).reset_index()\n",
    "\n",
    "def func(df):\n",
    "    if df['Day of Week'] == 'Sunday':\n",
    "        return 1\n",
    "    elif df['Day of Week'] =='Monday':\n",
    "        return 2\n",
    "    elif df['Day of Week'] =='Tuesday':\n",
    "        return 3\n",
    "    elif df['Day of Week'] =='Wednesday':\n",
    "        return 4\n",
    "    elif df['Day of Week'] =='Thursday':\n",
    "        return 5\n",
    "    elif df['Day of Week'] =='Friday':\n",
    "        return 6\n",
    "    else:\n",
    "        return 7\n",
    "\n",
    "df3['Day of Week Order'] = df3.apply(func, axis=1)\n",
    "df3.sort_values(\"Day of Week Order\",inplace=True)\n",
    "df3"
   ]
  },
  {
   "cell_type": "code",
   "execution_count": 10,
   "metadata": {},
   "outputs": [
    {
     "data": {
      "image/png": "[encoded data removed]",
      "text/plain": [
       "<Figure size 720x576 with 1 Axes>"
      ]
     },
     "metadata": {
      "needs_background": "light"
     },
     "output_type": "display_data"
    }
   ],
   "source": [
    "fig, ax = plt.subplots()\n",
    "fig.set_figheight(8)\n",
    "fig.set_figwidth(10)\n",
    "labels=['A','B','C']\n",
    "\n",
    "x_day_wk=np.array(df3['Day of Week'].astype(str).to_list())\n",
    "a_sale=np.array(df3['A'].astype(int).to_list())\n",
    "b_sale=np.array(df3['B'].astype(int).to_list())\n",
    "c_sale=np.array(df3['C'].astype(int).to_list())\n",
    "\n",
    "ax.plot(x_day_wk, a_sale, color='navy', linewidth=3)\n",
    "ax.plot(x_day_wk, b_sale, color='cornflowerblue', linewidth=3)\n",
    "ax.plot(x_day_wk, c_sale, color='lightblue', linewidth=3)\n",
    "\n",
    "ax.legend(['A', 'B', 'C'],loc='upper right',ncol=len(labels))\n",
    "\n",
    "plt.savefig('output/branch_time.png')"
   ]
  },
  {
   "cell_type": "markdown",
   "metadata": {},
   "source": [
    "# Branches per City\n",
    "Each branch is in a different city in Myanmar, with:\n",
    "- Branch A in Yangon. Yangon has a population of 5,244,000\n",
    "- Branch B in Mandalay. Mandalay has a population of 1,406,000\n",
    "- Branch C in Naypyitaw. Naypyitaw has a population of 546,000\n",
    "\n",
    "Yangon has the largest population, so more people may visit the store, resulting in higher sales in Branch A than other branches. The current dataset does not include information about the number of customers who visit the store.\n",
    "\n",
    "It may be possible that the same customer may have multiple invoices at the same store and at other branches."
   ]
  },
  {
   "cell_type": "code",
   "execution_count": 11,
   "metadata": {},
   "outputs": [
    {
     "data": {
      "text/html": [
       "<div>\n",
       "<style scoped>\n",
       "    .dataframe tbody tr th:only-of-type {\n",
       "        vertical-align: middle;\n",
       "    }\n",
       "\n",
       "    .dataframe tbody tr th {\n",
       "        vertical-align: top;\n",
       "    }\n",
       "\n",
       "    .dataframe thead th {\n",
       "        text-align: right;\n",
       "    }\n",
       "</style>\n",
       "<table border=\"1\" class=\"dataframe\">\n",
       "  <thead>\n",
       "    <tr style=\"text-align: right;\">\n",
       "      <th></th>\n",
       "      <th>City</th>\n",
       "      <th>Branch</th>\n",
       "    </tr>\n",
       "  </thead>\n",
       "  <tbody>\n",
       "    <tr>\n",
       "      <th>0</th>\n",
       "      <td>Mandalay</td>\n",
       "      <td>1</td>\n",
       "    </tr>\n",
       "    <tr>\n",
       "      <th>1</th>\n",
       "      <td>Naypyitaw</td>\n",
       "      <td>1</td>\n",
       "    </tr>\n",
       "    <tr>\n",
       "      <th>2</th>\n",
       "      <td>Yangon</td>\n",
       "      <td>1</td>\n",
       "    </tr>\n",
       "  </tbody>\n",
       "</table>\n",
       "</div>"
      ],
      "text/plain": [
       "        City  Branch\n",
       "0   Mandalay       1\n",
       "1  Naypyitaw       1\n",
       "2     Yangon       1"
      ]
     },
     "execution_count": 11,
     "metadata": {},
     "output_type": "execute_result"
    }
   ],
   "source": [
    "df4=df[['City','Branch']]\n",
    "df4=df4.groupby(['City']).nunique()\n",
    "df4.drop(columns='City',axis=1,inplace=True)\n",
    "df4.reset_index(inplace=True)\n",
    "df4"
   ]
  },
  {
   "cell_type": "code",
   "execution_count": 12,
   "metadata": {},
   "outputs": [],
   "source": [
    "map = folium.Map(location = [21.916,95.956], tiles = \"Stamen Terrain\", zoom_start = 7)\n",
    "\n",
    "folium.Marker(\n",
    "  location=[16.840,96.173],\n",
    "  popup='Yangon'\n",
    ").add_to(map)\n",
    "\n",
    "folium.Marker(\n",
    "  location=[21.958,96.089],\n",
    "  popup='Mandalay'\n",
    ").add_to(map)\n",
    "\n",
    "folium.Marker(\n",
    "  location=[19.763,96.078],\n",
    "  popup='Naypyitaw'\n",
    ").add_to(map)\n",
    "\n",
    "map.save(\"output/branch_map.html\")"
   ]
  },
  {
   "cell_type": "markdown",
   "metadata": {},
   "source": [
    "# Median Sales per Customer Type\n",
    "\n",
    "Customers can obtain membership at the supermarket chain. In both Branch A and B, members tend to have higher average sales than normal consumers, with Branch C having on par sales for both groups (sales different at p=0.5)."
   ]
  },
  {
   "cell_type": "code",
   "execution_count": 13,
   "metadata": {},
   "outputs": [],
   "source": [
    "df5=df[['Branch','Customer type','Total']]\n",
    "df5=df.groupby(['Branch','Customer type']).median()\n",
    "df5=pd.pivot_table(df5, values='Total', index='Branch', columns='Customer type',aggfunc=np.sum).reset_index()"
   ]
  },
  {
   "cell_type": "code",
   "execution_count": 14,
   "metadata": {},
   "outputs": [
    {
     "data": {
      "image/png": "[encoded data removed]",
      "text/plain": [
       "<Figure size 720x576 with 1 Axes>"
      ]
     },
     "metadata": {
      "needs_background": "light"
     },
     "output_type": "display_data"
    }
   ],
   "source": [
    "labels_arr=df5['Branch'].to_list()\n",
    "mem_arr=df5['Member'].to_list()\n",
    "norm_arr=df5['Normal'].to_list()\n",
    "\n",
    "fig, ax = plt.subplots()\n",
    "fig.set_figheight(8)\n",
    "fig.set_figwidth(10)\n",
    "width=0.35\n",
    "\n",
    "x = np.arange(len(labels))\n",
    "\n",
    "rects1 = ax.bar(x - width/2, mem_arr, width, label='Member',tick_label=labels_arr,color='lightseagreen')\n",
    "rects2 = ax.bar(x + width/2, norm_arr, width, label='Normal',tick_label=labels_arr,color='powderblue')\n",
    "\n",
    "ax.legend(loc='upper center',ncol=len(labels))\n",
    "\n",
    "plt.savefig('output/branch_mem_total_sales.png')"
   ]
  },
  {
   "cell_type": "code",
   "execution_count": 15,
   "metadata": {},
   "outputs": [
    {
     "data": {
      "text/plain": [
       "Ttest_indResult(statistic=0.6906380091475369, pvalue=0.4902670482885446)"
      ]
     },
     "execution_count": 15,
     "metadata": {},
     "output_type": "execute_result"
    }
   ],
   "source": [
    "df6=df[['Branch','Customer type','Total']]\n",
    "df6_mem=df6[(df6['Customer type'] == 'Member') & (df6['Branch'] == 'A')]['Total']\n",
    "df6_norm=df6[(df6['Customer type'] == 'Normal') & (df6['Branch'] == 'A')]['Total']\n",
    "stats.ttest_ind(df6_mem,df6_norm)"
   ]
  },
  {
   "cell_type": "markdown",
   "metadata": {},
   "source": [
    "# Encode Categorical Data for Analysis"
   ]
  },
  {
   "cell_type": "code",
   "execution_count": 16,
   "metadata": {},
   "outputs": [],
   "source": [
    "df['branchA'] = np.where(df['Branch']=='A', 1, 0)\n",
    "df['branchB'] = np.where(df['Branch']=='B', 1, 0)\n",
    "df['custMem'] = np.where(df['Customer type']=='Member', 1, 0)\n",
    "\n",
    "wk_arr=['Monday','Tuesday','Wednesday','Thursday','Friday']\n",
    "\n",
    "df['Date']=pd.to_datetime(df['Date'])\n",
    "df['Day of Week'] = df['Date'].dt.day_name()\n",
    "\n",
    "df['wk_day'] = np.where(df['Day of Week'].isin(wk_arr), 1, 0)\n",
    "\n",
    "prod_arr=['Electronic accessories','Sports and travel','Fashion accessories']\n",
    "\n",
    "com_prod=['Health and beauty','Food and beverages','Electronic accessories']\n",
    "\n",
    "df['necessity'] = np.where(df['Product line'].isin(com_prod), df['Quantity'], 0)"
   ]
  },
  {
   "cell_type": "code",
   "execution_count": 17,
   "metadata": {},
   "outputs": [
    {
     "data": {
      "text/html": [
       "<div>\n",
       "<style scoped>\n",
       "    .dataframe tbody tr th:only-of-type {\n",
       "        vertical-align: middle;\n",
       "    }\n",
       "\n",
       "    .dataframe tbody tr th {\n",
       "        vertical-align: top;\n",
       "    }\n",
       "\n",
       "    .dataframe thead th {\n",
       "        text-align: right;\n",
       "    }\n",
       "</style>\n",
       "<table border=\"1\" class=\"dataframe\">\n",
       "  <thead>\n",
       "    <tr style=\"text-align: right;\">\n",
       "      <th></th>\n",
       "      <th>branchA</th>\n",
       "      <th>branchB</th>\n",
       "      <th>custMem</th>\n",
       "      <th>wk_day</th>\n",
       "      <th>Quantity</th>\n",
       "      <th>Total</th>\n",
       "      <th>Total_log</th>\n",
       "    </tr>\n",
       "  </thead>\n",
       "  <tbody>\n",
       "    <tr>\n",
       "      <th>0</th>\n",
       "      <td>1</td>\n",
       "      <td>0</td>\n",
       "      <td>1</td>\n",
       "      <td>0</td>\n",
       "      <td>7</td>\n",
       "      <td>522.0</td>\n",
       "      <td>6.257668</td>\n",
       "    </tr>\n",
       "    <tr>\n",
       "      <th>1</th>\n",
       "      <td>0</td>\n",
       "      <td>0</td>\n",
       "      <td>0</td>\n",
       "      <td>1</td>\n",
       "      <td>5</td>\n",
       "      <td>77.0</td>\n",
       "      <td>4.343805</td>\n",
       "    </tr>\n",
       "    <tr>\n",
       "      <th>2</th>\n",
       "      <td>1</td>\n",
       "      <td>0</td>\n",
       "      <td>0</td>\n",
       "      <td>0</td>\n",
       "      <td>7</td>\n",
       "      <td>324.0</td>\n",
       "      <td>5.780744</td>\n",
       "    </tr>\n",
       "    <tr>\n",
       "      <th>3</th>\n",
       "      <td>1</td>\n",
       "      <td>0</td>\n",
       "      <td>1</td>\n",
       "      <td>0</td>\n",
       "      <td>8</td>\n",
       "      <td>466.0</td>\n",
       "      <td>6.144186</td>\n",
       "    </tr>\n",
       "    <tr>\n",
       "      <th>4</th>\n",
       "      <td>1</td>\n",
       "      <td>0</td>\n",
       "      <td>0</td>\n",
       "      <td>1</td>\n",
       "      <td>7</td>\n",
       "      <td>604.0</td>\n",
       "      <td>6.403574</td>\n",
       "    </tr>\n",
       "  </tbody>\n",
       "</table>\n",
       "</div>"
      ],
      "text/plain": [
       "   branchA  branchB  custMem  wk_day  Quantity  Total  Total_log\n",
       "0        1        0        1       0         7  522.0   6.257668\n",
       "1        0        0        0       1         5   77.0   4.343805\n",
       "2        1        0        0       0         7  324.0   5.780744\n",
       "3        1        0        1       0         8  466.0   6.144186\n",
       "4        1        0        0       1         7  604.0   6.403574"
      ]
     },
     "execution_count": 17,
     "metadata": {},
     "output_type": "execute_result"
    }
   ],
   "source": [
    "df7=df[['branchA','branchB','custMem','wk_day','Quantity','Total','Total_log']]\n",
    "df7.head()"
   ]
  },
  {
   "cell_type": "markdown",
   "metadata": {},
   "source": [
    "# Check for multi-collinearity"
   ]
  },
  {
   "cell_type": "code",
   "execution_count": 18,
   "metadata": {},
   "outputs": [
    {
     "data": {
      "text/plain": [
       "<AxesSubplot:>"
      ]
     },
     "execution_count": 18,
     "metadata": {},
     "output_type": "execute_result"
    },
    {
     "data": {
      "image/png": "[encoded data removed]",
      "text/plain": [
       "<Figure size 432x288 with 2 Axes>"
      ]
     },
     "metadata": {
      "needs_background": "light"
     },
     "output_type": "display_data"
    }
   ],
   "source": [
    "df8=df[['branchA','branchB','custMem','wk_day','Quantity']]\n",
    "sns.heatmap(df8.corr())"
   ]
  },
  {
   "cell_type": "markdown",
   "metadata": {},
   "source": [
    "# Linear Regression"
   ]
  },
  {
   "cell_type": "code",
   "execution_count": 19,
   "metadata": {},
   "outputs": [],
   "source": [
    "X1 = ['branchA','branchB','custMem','wk_day','Quantity']\n",
    "\n",
    "reg1 = sm.OLS(df7['Total'], df7[X1]).fit()"
   ]
  },
  {
   "cell_type": "code",
   "execution_count": 20,
   "metadata": {},
   "outputs": [
    {
     "name": "stdout",
     "output_type": "stream",
     "text": [
      "Table 2 - OLS Regressions\n",
      "=========================\n",
      "                 Model 1 \n",
      "-------------------------\n",
      "branchA          -14.65  \n",
      "                 (11.78) \n",
      "branchB          -8.26   \n",
      "                 (11.91) \n",
      "custMem          4.88    \n",
      "                 (10.00) \n",
      "wk_day           -2.19   \n",
      "                 (9.96)  \n",
      "Quantity         56.93***\n",
      "                 (1.42)  \n",
      "R-squared        0.82    \n",
      "R-squared Adj.   0.82    \n",
      "R-squared        0.82    \n",
      "No. observations 1000    \n",
      "=========================\n",
      "Standard errors in\n",
      "parentheses.\n",
      "* p<.1, ** p<.05,\n",
      "***p<.01\n"
     ]
    }
   ],
   "source": [
    "info_dict={'R-squared' : lambda x: f\"{x.rsquared:.2f}\",\n",
    "           'No. observations' : lambda x: f\"{int(x.nobs):d}\"}\n",
    "\n",
    "results_table = summary_col(results=[reg1],\n",
    "                            float_format='%0.2f',\n",
    "                            stars = True,\n",
    "                            model_names=['Model 1'\n",
    "                                        ],\n",
    "                            info_dict=info_dict\n",
    "                           )\n",
    "\n",
    "results_table.add_title('Table 2 - OLS Regressions')\n",
    "\n",
    "print(results_table)"
   ]
  },
  {
   "cell_type": "code",
   "execution_count": 21,
   "metadata": {},
   "outputs": [
    {
     "data": {
      "image/png": "[encoded data removed]",
      "text/plain": [
       "<Figure size 432x288 with 1 Axes>"
      ]
     },
     "metadata": {
      "needs_background": "light"
     },
     "output_type": "display_data"
    }
   ],
   "source": [
    "def print_resids(preds, resids):\n",
    "    ax = sns.regplot(preds, resids);\n",
    "    ax.set(xlabel = 'Predicted values', ylabel = 'errors', title = 'Predicted values vs. Errors')\n",
    "    plt.show();\n",
    "    \n",
    "print_resids(reg1.predict(df7[X1]), reg1.resid)"
   ]
  }
 ],
 "metadata": {
  "kernelspec": {
   "display_name": "Python 3",
   "language": "python",
   "name": "python3"
  },
  "language_info": {
   "codemirror_mode": {
    "name": "ipython",
    "version": 3
   },
   "file_extension": ".py",
   "mimetype": "text/x-python",
   "name": "python",
   "nbconvert_exporter": "python",
   "pygments_lexer": "ipython3",
   "version": "3.6.4"
  }
 },
 "nbformat": 4,
 "nbformat_minor": 4
}
